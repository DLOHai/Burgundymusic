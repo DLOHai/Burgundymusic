{
 "cells": [
  {
   "cell_type": "code",
   "execution_count": 1,
   "metadata": {},
   "outputs": [],
   "source": [
    "import os\n",
    "from progress.bar import Bar\n",
    "import pickle\n",
    "\n",
    "from jason_midi_preproc import encode_midi"
   ]
  },
  {
   "cell_type": "code",
   "execution_count": 2,
   "metadata": {},
   "outputs": [],
   "source": [
    "def find_files_by_extensions(root, exts=[]):\n",
    "    def _has_ext(name):\n",
    "        if not exts: return False\n",
    "        name = name.lower()\n",
    "        for ext in exts:\n",
    "            if name.endswith(ext):\n",
    "                return True\n",
    "        return False\n",
    "    \n",
    "    for path, _, files in os.walk(root):\n",
    "        for fname in files:\n",
    "            if _has_ext(fname):\n",
    "                yield os.path.join(path, fname)\n",
    "\n",
    "def preprocess_midi(path):\n",
    "    return encode_midi(path)\n",
    "#     return encode_midi(path, augumentation=False)\n",
    "\n",
    "\n",
    "\n",
    "def preprocess_midi_files_under(midi_root, save_dir):\n",
    "    midi_paths = list(find_files_by_extensions(midi_root, ['.mid', '.midi']))\n",
    "#     print(midi_paths) \n",
    "    os.makedirs(save_dir, exist_ok=True)\n",
    "#     out_fmt = '{}-{}.data'\n",
    "\n",
    "    for path in Bar('Processing').iter(midi_paths):\n",
    "        print(' ', end='[{}]'.format(path), flush=True)\n",
    "\n",
    "        try:\n",
    "            data = preprocess_midi(path)\n",
    "        except KeyboardInterrupt:\n",
    "            print('Abort')\n",
    "            return\n",
    "        except EOFError:\n",
    "            print('EOF Error')\n",
    "\n",
    "        with open('{}/{}.pickle'.format(save_dir, path.split('/')[-1]), 'wb') as f:\n",
    "            pickle.dump(data, f)"
   ]
  },
  {
   "cell_type": "code",
   "execution_count": null,
   "metadata": {
    "scrolled": true
   },
   "outputs": [],
   "source": [
    "midi_root = \"../dataset/test\"\n",
    "save_dir = \"../dataset/test\"\n",
    "\n",
    "preprocess_midi_files_under(midi_root, save_dir)"
   ]
  },
  {
   "cell_type": "code",
   "execution_count": 3,
   "metadata": {},
   "outputs": [
    {
     "data": {
      "text/plain": [
       "[]"
      ]
     },
     "execution_count": 3,
     "metadata": {},
     "output_type": "execute_result"
    }
   ],
   "source": [
    "preprocess_midi(\"../dataset/test.mid\")"
   ]
  }
 ],
 "metadata": {
  "kernelspec": {
   "display_name": "Python 3",
   "language": "python",
   "name": "python3"
  },
  "language_info": {
   "codemirror_mode": {
    "name": "ipython",
    "version": 3
   },
   "file_extension": ".py",
   "mimetype": "text/x-python",
   "name": "python",
   "nbconvert_exporter": "python",
   "pygments_lexer": "ipython3",
   "version": "3.6.9"
  }
 },
 "nbformat": 4,
 "nbformat_minor": 2
}
